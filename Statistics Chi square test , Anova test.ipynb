{
 "cells": [
  {
   "cell_type": "markdown",
   "id": "b587812c",
   "metadata": {},
   "source": [
    "how to check the normality of the data"
   ]
  },
  {
   "cell_type": "code",
   "execution_count": 1,
   "id": "99244915",
   "metadata": {},
   "outputs": [
    {
     "ename": "NameError",
     "evalue": "name 'data' is not defined",
     "output_type": "error",
     "traceback": [
      "\u001b[1;31m---------------------------------------------------------------------------\u001b[0m",
      "\u001b[1;31mNameError\u001b[0m                                 Traceback (most recent call last)",
      "Input \u001b[1;32mIn [1]\u001b[0m, in \u001b[0;36m<cell line: 1>\u001b[1;34m()\u001b[0m\n\u001b[1;32m----> 1\u001b[0m \u001b[43mdata\u001b[49m\u001b[38;5;241m.\u001b[39mhead()\n",
      "\u001b[1;31mNameError\u001b[0m: name 'data' is not defined"
     ]
    }
   ],
   "source": [
    "data.head()"
   ]
  },
  {
   "cell_type": "code",
   "execution_count": 71,
   "id": "95ca273a",
   "metadata": {},
   "outputs": [],
   "source": [
    "import pandas as pd\n",
    "data=pd.read_csv(\"winequality-red.csv\")"
   ]
  },
  {
   "cell_type": "markdown",
   "id": "b2bbeb4f",
   "metadata": {},
   "source": [
    "# what is my null hyphothesis?\n",
    "#null hypothesis that the data was drawn from a normal distribution."
   ]
  },
  {
   "cell_type": "code",
   "execution_count": 17,
   "id": "b9d38b4b",
   "metadata": {},
   "outputs": [],
   "source": [
    "import numpy as np"
   ]
  },
  {
   "cell_type": "markdown",
   "id": "be086cbe",
   "metadata": {},
   "source": [
    "if p<=result[1]:\n",
    "    print(\"reject the null hyphothesis\")\n",
    "else:\n",
    "    print(\"accept the null hyphothsis\")"
   ]
  },
  {
   "cell_type": "code",
   "execution_count": 18,
   "id": "bef635fc",
   "metadata": {},
   "outputs": [
    {
     "ename": "IndexError",
     "evalue": "only integers, slices (`:`), ellipsis (`...`), numpy.newaxis (`None`) and integer or boolean arrays are valid indices",
     "output_type": "error",
     "traceback": [
      "\u001b[1;31m---------------------------------------------------------------------------\u001b[0m",
      "\u001b[1;31mIndexError\u001b[0m                                Traceback (most recent call last)",
      "Input \u001b[1;32mIn [18]\u001b[0m, in \u001b[0;36m<cell line: 2>\u001b[1;34m()\u001b[0m\n\u001b[0;32m      1\u001b[0m \u001b[38;5;28;01mfrom\u001b[39;00m \u001b[38;5;21;01mscipy\u001b[39;00m \u001b[38;5;28;01mimport\u001b[39;00m stats\n\u001b[1;32m----> 2\u001b[0m stats\u001b[38;5;241m.\u001b[39mnormaltest(\u001b[43mdata\u001b[49m\u001b[43m[\u001b[49m\u001b[38;5;124;43m'\u001b[39;49m\u001b[38;5;124;43mcitric acid\u001b[39;49m\u001b[38;5;124;43m'\u001b[39;49m\u001b[43m]\u001b[49m)\n",
      "\u001b[1;31mIndexError\u001b[0m: only integers, slices (`:`), ellipsis (`...`), numpy.newaxis (`None`) and integer or boolean arrays are valid indices"
     ]
    }
   ],
   "source": [
    "from scipy import stats\n",
    "stats.normaltest(data['citric acid'])"
   ]
  },
  {
   "cell_type": "code",
   "execution_count": 19,
   "id": "1b1bf0f2",
   "metadata": {},
   "outputs": [],
   "source": [
    "sample_mean_iq=110\n",
    "alpha=0.05\n",
    "#ci=95%"
   ]
  },
  {
   "cell_type": "code",
   "execution_count": 20,
   "id": "a62e7148",
   "metadata": {},
   "outputs": [],
   "source": [
    "mean_std_dev=15\n",
    "mean_population=100"
   ]
  },
  {
   "cell_type": "code",
   "execution_count": 21,
   "id": "b95bc122",
   "metadata": {},
   "outputs": [],
   "source": [
    "from numpy.random import randn"
   ]
  },
  {
   "cell_type": "code",
   "execution_count": 22,
   "id": "391af2d6",
   "metadata": {},
   "outputs": [
    {
     "data": {
      "text/plain": [
       "array([ 73.11850267, 118.1011964 , 126.45320716,  80.79690937,\n",
       "       112.40225254, 104.97794802, 103.03443972, 125.65874965,\n",
       "       121.04792475, 129.63591018, 107.22024891, 135.24066249,\n",
       "        90.61152679,  87.81878088, 109.27031066, 107.08928829,\n",
       "        84.7351751 ,  87.26539612, 113.07833607, 102.61412875,\n",
       "       140.54148298, 104.54927125, 115.45857095, 115.03040555,\n",
       "       116.38225508, 112.7232079 , 107.02033541, 119.98459923,\n",
       "        82.76029252,  90.61495491, 120.53835392, 107.55096219,\n",
       "       105.41146781, 119.94741904, 110.57070795, 114.4769417 ,\n",
       "       127.1584261 , 121.16491526, 139.77920786, 107.30646647,\n",
       "       106.38487906, 119.00290529, 118.71197667,  73.7465907 ,\n",
       "        91.22441048,  73.55248001,  98.31780408, 106.41381717,\n",
       "       126.54221902, 128.761773  ])"
      ]
     },
     "execution_count": 22,
     "metadata": {},
     "output_type": "execute_result"
    }
   ],
   "source": [
    "mean_std_dev*randn(50)+sample_mean_iq\n"
   ]
  },
  {
   "cell_type": "code",
   "execution_count": 23,
   "id": "33a8cccf",
   "metadata": {},
   "outputs": [],
   "source": [
    "data=mean_std_dev*randn(50)+mean_population\n"
   ]
  },
  {
   "cell_type": "code",
   "execution_count": 24,
   "id": "b45c7acf",
   "metadata": {},
   "outputs": [
    {
     "data": {
      "text/plain": [
       "99.5575596232832"
      ]
     },
     "execution_count": 24,
     "metadata": {},
     "output_type": "execute_result"
    }
   ],
   "source": [
    "np.mean(data)"
   ]
  },
  {
   "cell_type": "code",
   "execution_count": 25,
   "id": "ea561ea7",
   "metadata": {},
   "outputs": [
    {
     "data": {
      "text/plain": [
       "12.248848213023514"
      ]
     },
     "execution_count": 25,
     "metadata": {},
     "output_type": "execute_result"
    }
   ],
   "source": [
    "np.std(data)"
   ]
  },
  {
   "cell_type": "code",
   "execution_count": 26,
   "id": "f07da5e8",
   "metadata": {},
   "outputs": [],
   "source": [
    "null_hyphothesis_value=100"
   ]
  },
  {
   "cell_type": "code",
   "execution_count": 27,
   "id": "d2ae3b2e",
   "metadata": {},
   "outputs": [
    {
     "data": {
      "text/plain": [
       "(-0.25284684593647483, 0.5998067171263217)"
      ]
     },
     "execution_count": 27,
     "metadata": {},
     "output_type": "execute_result"
    }
   ],
   "source": [
    "from statsmodels.stats.weightstats import ztest\n",
    "ztest(data,value=null_hyphothesis_value,alternative='larger')"
   ]
  },
  {
   "cell_type": "code",
   "execution_count": 28,
   "id": "8ac70dfa",
   "metadata": {},
   "outputs": [],
   "source": [
    "null_hyphothesis_value=130 "
   ]
  },
  {
   "cell_type": "code",
   "execution_count": 29,
   "id": "48ad79ac",
   "metadata": {},
   "outputs": [
    {
     "data": {
      "text/plain": [
       "(-17.39731597052884, 1.0)"
      ]
     },
     "execution_count": 29,
     "metadata": {},
     "output_type": "execute_result"
    }
   ],
   "source": [
    "from statsmodels.stats.weightstats import ztest\n",
    "ztest(data,value=null_hyphothesis_value,alternative='larger')"
   ]
  },
  {
   "cell_type": "code",
   "execution_count": 30,
   "id": "e5f3cc80",
   "metadata": {},
   "outputs": [],
   "source": [
    "null_hyphothesis_value=105  ## accept null hyppothesis"
   ]
  },
  {
   "cell_type": "code",
   "execution_count": 31,
   "id": "3e7fb780",
   "metadata": {},
   "outputs": [
    {
     "data": {
      "text/plain": [
       "(-3.110258366701869, 0.9990653811844302)"
      ]
     },
     "execution_count": 31,
     "metadata": {},
     "output_type": "execute_result"
    }
   ],
   "source": [
    "from statsmodels.stats.weightstats import ztest\n",
    "ztest(data,value=null_hyphothesis_value,alternative='larger')"
   ]
  },
  {
   "cell_type": "markdown",
   "id": "76c0bfb1",
   "metadata": {},
   "source": [
    "# t_test\n"
   ]
  },
  {
   "cell_type": "markdown",
   "id": "57289e5a",
   "metadata": {},
   "source": [
    "#ztest vs test\n",
    "sample size less than 30\n",
    "pop var/pop std won't be there"
   ]
  },
  {
   "cell_type": "markdown",
   "id": "f1b3bbb7",
   "metadata": {},
   "source": [
    "one-sample t test(with respect to one independent sample)\n",
    "two-sample t test(with respect to two independent sample)\n",
    "paired t-test(two sample from the sample population on different time interval)"
   ]
  },
  {
   "cell_type": "code",
   "execution_count": 32,
   "id": "34ae52ea",
   "metadata": {},
   "outputs": [
    {
     "data": {
      "text/plain": [
       "array([19, 26, 46, 42, 31, 36, 15, 32, 14, 19, 49, 32, 24, 22, 23, 45, 22,\n",
       "       39, 25, 10, 23, 35, 36, 20, 38, 30, 16, 46, 36, 37, 43, 31, 18, 47,\n",
       "       17, 38, 20, 41, 28, 21, 38, 46, 40, 19, 34, 39, 47, 13, 39, 13])"
      ]
     },
     "execution_count": 32,
     "metadata": {},
     "output_type": "execute_result"
    }
   ],
   "source": [
    "import random\n",
    "import numpy as np\n",
    "np.random.randint(10,50,50)\n"
   ]
  },
  {
   "cell_type": "code",
   "execution_count": 33,
   "id": "b7a831e3",
   "metadata": {},
   "outputs": [],
   "source": [
    "population=np.random.randint(10,50,50)"
   ]
  },
  {
   "cell_type": "code",
   "execution_count": 34,
   "id": "186063a2",
   "metadata": {},
   "outputs": [
    {
     "data": {
      "text/plain": [
       "array([36, 28, 26, 17, 26, 12, 36, 17, 23, 35, 46, 39, 11, 10, 45, 19, 39,\n",
       "       20, 30, 41, 45, 32, 33, 14, 12, 49, 48, 26, 16, 47, 27, 33, 26, 29,\n",
       "       35, 48, 26, 34, 11, 41, 24, 38, 44, 13, 47, 24, 12, 21, 27, 44])"
      ]
     },
     "execution_count": 34,
     "metadata": {},
     "output_type": "execute_result"
    }
   ],
   "source": [
    "population"
   ]
  },
  {
   "cell_type": "code",
   "execution_count": 35,
   "id": "45e2f67c",
   "metadata": {},
   "outputs": [
    {
     "data": {
      "text/plain": [
       "array([14, 16, 48, 27, 24, 29, 49, 19, 28, 33, 29, 17, 48, 14, 24, 21, 26,\n",
       "       16, 48, 44])"
      ]
     },
     "execution_count": 35,
     "metadata": {},
     "output_type": "execute_result"
    }
   ],
   "source": [
    "sample1=np.random.choice(population,20)\n",
    "sample1"
   ]
  },
  {
   "cell_type": "code",
   "execution_count": 36,
   "id": "d116f924",
   "metadata": {},
   "outputs": [
    {
     "data": {
      "text/plain": [
       "array([26, 29, 39, 36, 13, 20, 27, 19, 26, 45, 39, 47, 33, 35, 10, 36, 45,\n",
       "       41, 28, 36])"
      ]
     },
     "execution_count": 36,
     "metadata": {},
     "output_type": "execute_result"
    }
   ],
   "source": [
    "sample2=np.random.choice(population,20)\n",
    "sample2"
   ]
  },
  {
   "cell_type": "code",
   "execution_count": 37,
   "id": "8e3b7385",
   "metadata": {},
   "outputs": [
    {
     "data": {
      "text/plain": [
       "28.7"
      ]
     },
     "execution_count": 37,
     "metadata": {},
     "output_type": "execute_result"
    }
   ],
   "source": [
    "sample1.mean()\n"
   ]
  },
  {
   "cell_type": "code",
   "execution_count": 38,
   "id": "5ff99ae7",
   "metadata": {},
   "outputs": [
    {
     "data": {
      "text/plain": [
       "28.7"
      ]
     },
     "execution_count": 38,
     "metadata": {},
     "output_type": "execute_result"
    }
   ],
   "source": [
    "np.mean(sample1)"
   ]
  },
  {
   "cell_type": "code",
   "execution_count": 39,
   "id": "7f6a57b1",
   "metadata": {},
   "outputs": [
    {
     "data": {
      "text/plain": [
       "31.5"
      ]
     },
     "execution_count": 39,
     "metadata": {},
     "output_type": "execute_result"
    }
   ],
   "source": [
    "sample2.mean()\n"
   ]
  },
  {
   "cell_type": "code",
   "execution_count": 40,
   "id": "7f7c23a3",
   "metadata": {},
   "outputs": [],
   "source": [
    "my_cricket_score=[22, 38, 19, 15, 48, 11, 10, 49, 47, 38, 10, 25, 46, 10, 21, 24, 29,36, 25, 24]"
   ]
  },
  {
   "cell_type": "code",
   "execution_count": 41,
   "id": "c1af70c8",
   "metadata": {},
   "outputs": [
    {
     "data": {
      "text/plain": [
       "[22,\n",
       " 38,\n",
       " 19,\n",
       " 15,\n",
       " 48,\n",
       " 11,\n",
       " 10,\n",
       " 49,\n",
       " 47,\n",
       " 38,\n",
       " 10,\n",
       " 25,\n",
       " 46,\n",
       " 10,\n",
       " 21,\n",
       " 24,\n",
       " 29,\n",
       " 36,\n",
       " 25,\n",
       " 24]"
      ]
     },
     "execution_count": 41,
     "metadata": {},
     "output_type": "execute_result"
    }
   ],
   "source": [
    "my_cricket_score"
   ]
  },
  {
   "cell_type": "code",
   "execution_count": 42,
   "id": "52775866",
   "metadata": {},
   "outputs": [
    {
     "data": {
      "text/plain": [
       "27.35"
      ]
     },
     "execution_count": 42,
     "metadata": {},
     "output_type": "execute_result"
    }
   ],
   "source": [
    "np.mean(my_cricket_score)"
   ]
  },
  {
   "cell_type": "markdown",
   "id": "a1ebf3ae",
   "metadata": {},
   "source": [
    "null_hyphothesis=sample mean should be 27.35"
   ]
  },
  {
   "cell_type": "code",
   "execution_count": 43,
   "id": "866a20fc",
   "metadata": {},
   "outputs": [],
   "source": [
    "virat_cricket_score=[33, 45, 23, 25, 46, 46, 46, 49, 49, 14, 14, 44, 25, 31, 25, 40, 30,20, 42, 37]"
   ]
  },
  {
   "cell_type": "code",
   "execution_count": 44,
   "id": "6c134239",
   "metadata": {},
   "outputs": [
    {
     "data": {
      "text/plain": [
       "34.2"
      ]
     },
     "execution_count": 44,
     "metadata": {},
     "output_type": "execute_result"
    }
   ],
   "source": [
    "np.mean(virat_cricket_score)"
   ]
  },
  {
   "cell_type": "code",
   "execution_count": 45,
   "id": "87460860",
   "metadata": {},
   "outputs": [],
   "source": [
    "from scipy import stats"
   ]
  },
  {
   "cell_type": "code",
   "execution_count": 46,
   "id": "3ed74973",
   "metadata": {},
   "outputs": [],
   "source": [
    "import scipy\n",
    "result=scipy.stats.ttest_1samp(my_cricket_score,15)"
   ]
  },
  {
   "cell_type": "code",
   "execution_count": 47,
   "id": "69665583",
   "metadata": {},
   "outputs": [
    {
     "data": {
      "text/plain": [
       "0.0005939030580482863"
      ]
     },
     "execution_count": 47,
     "metadata": {},
     "output_type": "execute_result"
    }
   ],
   "source": [
    "result[1]\n"
   ]
  },
  {
   "cell_type": "markdown",
   "id": "5e795022",
   "metadata": {},
   "source": [
    " we are going to reject the null hyphothesis\n",
    "p_value<=0.05"
   ]
  },
  {
   "cell_type": "markdown",
   "id": "dac9f149",
   "metadata": {},
   "source": [
    "#if P_value we are going to accept the null hyphgothesis\n",
    "p_value>0.05"
   ]
  },
  {
   "cell_type": "code",
   "execution_count": 48,
   "id": "cf0ee4a3",
   "metadata": {},
   "outputs": [
    {
     "data": {
      "text/plain": [
       "Ttest_1sampResult(statistic=0.1165211062024157, pvalue=0.9084623785416334)"
      ]
     },
     "execution_count": 48,
     "metadata": {},
     "output_type": "execute_result"
    }
   ],
   "source": [
    "scipy.stats.ttest_1samp(my_cricket_score,27) ## accept"
   ]
  },
  {
   "cell_type": "code",
   "execution_count": 49,
   "id": "5c3e9291",
   "metadata": {},
   "outputs": [
    {
     "data": {
      "text/plain": [
       "Ttest_1sampResult(statistic=4.111530461713794, pvalue=0.0005939030580482863)"
      ]
     },
     "execution_count": 49,
     "metadata": {},
     "output_type": "execute_result"
    }
   ],
   "source": [
    "scipy.stats.ttest_1samp(my_cricket_score,15)  ## reject"
   ]
  },
  {
   "cell_type": "code",
   "execution_count": 50,
   "id": "016be2ba",
   "metadata": {},
   "outputs": [],
   "source": [
    "#two-sample t test(with respect to two independent sample)\n",
    "my_cricket_score=[22, 38, 19, 15, 48, 11, 10, 49, 47, 38, 10, 25, 46, 10, 21, 24, 29,36, 25, 24]\n",
    "\n",
    "virat_cricket_score=[33, 45, 23, 25, 46, 46, 46, 49, 49, 44, 44, 49, 25, 31, 25, 40, 30,20, 42, 37]"
   ]
  },
  {
   "cell_type": "code",
   "execution_count": 51,
   "id": "f412dfd4",
   "metadata": {},
   "outputs": [],
   "source": [
    "first_sample_mean=np.mean(my_cricket_score)\n",
    "second_sample_mean=np.mean(virat_cricket_score)"
   ]
  },
  {
   "cell_type": "code",
   "execution_count": 52,
   "id": "020b1375",
   "metadata": {},
   "outputs": [
    {
     "name": "stdout",
     "output_type": "stream",
     "text": [
      "27.35\n",
      "37.45\n"
     ]
    }
   ],
   "source": [
    "print(first_sample_mean)\n",
    "print(second_sample_mean)"
   ]
  },
  {
   "cell_type": "markdown",
   "id": "9d0a4fd8",
   "metadata": {},
   "source": [
    "my_null_hyphothsis=both sample mean will be same"
   ]
  },
  {
   "cell_type": "code",
   "execution_count": 53,
   "id": "74847b31",
   "metadata": {},
   "outputs": [
    {
     "data": {
      "text/plain": [
       "Ttest_indResult(statistic=-2.7009890879565885, pvalue=0.010269464981935)"
      ]
     },
     "execution_count": 53,
     "metadata": {},
     "output_type": "execute_result"
    }
   ],
   "source": [
    "scipy.stats.ttest_ind(my_cricket_score,virat_cricket_score)   # reject"
   ]
  },
  {
   "cell_type": "raw",
   "id": "68301f71",
   "metadata": {},
   "source": [
    "# we are going to reject the null hyphothesis\n",
    "p_value<=0.05\n",
    "#if P_value we are going to accept the null hyphgothesis\n",
    "p_value>0.05"
   ]
  },
  {
   "cell_type": "code",
   "execution_count": 55,
   "id": "1a79458a",
   "metadata": {},
   "outputs": [],
   "source": [
    "#paired t-test(two sample from the sample population on different time interval)\n",
    "my_cricket_score_from_first_inning=[22, 38, 19, 15, 48, 11, 10, 49, 47, 38, 10, 25, 46, 10, 21, 24, 29,36, 25, 24]\n",
    "my_cricket_score_from_second_inning=[22, 38, 29, 15, 18, 11, 10, 49, 47, 38, 50, 45, 46, 40, 21, 24, 29,16, 25, 24]"
   ]
  },
  {
   "cell_type": "code",
   "execution_count": 56,
   "id": "b539246a",
   "metadata": {},
   "outputs": [
    {
     "name": "stdout",
     "output_type": "stream",
     "text": [
      "27.35\n",
      "29.85\n"
     ]
    }
   ],
   "source": [
    "print(np.mean(my_cricket_score_from_first_inning))\n",
    "print(np.mean(my_cricket_score_from_second_inning))"
   ]
  },
  {
   "cell_type": "code",
   "execution_count": 57,
   "id": "1686cf6a",
   "metadata": {},
   "outputs": [
    {
     "data": {
      "text/plain": [
       "Ttest_relResult(statistic=-0.7542295906745516, pvalue=0.45995773816634733)"
      ]
     },
     "execution_count": 57,
     "metadata": {},
     "output_type": "execute_result"
    }
   ],
   "source": [
    "scipy.stats.ttest_rel(my_cricket_score_from_first_inning,my_cricket_score_from_second_inning)"
   ]
  },
  {
   "cell_type": "markdown",
   "id": "37dc236c",
   "metadata": {},
   "source": [
    "accept the null hypothesis "
   ]
  },
  {
   "cell_type": "markdown",
   "id": "3c703a06",
   "metadata": {},
   "source": [
    "# CHI -SQURE TEST\n"
   ]
  },
  {
   "cell_type": "code",
   "execution_count": 60,
   "id": "2fc1045e",
   "metadata": {},
   "outputs": [],
   "source": [
    "import seaborn as sns\n"
   ]
  },
  {
   "cell_type": "code",
   "execution_count": 65,
   "id": "4a5ad558",
   "metadata": {},
   "outputs": [
    {
     "data": {
      "text/html": [
       "<div>\n",
       "<style scoped>\n",
       "    .dataframe tbody tr th:only-of-type {\n",
       "        vertical-align: middle;\n",
       "    }\n",
       "\n",
       "    .dataframe tbody tr th {\n",
       "        vertical-align: top;\n",
       "    }\n",
       "\n",
       "    .dataframe thead th {\n",
       "        text-align: right;\n",
       "    }\n",
       "</style>\n",
       "<table border=\"1\" class=\"dataframe\">\n",
       "  <thead>\n",
       "    <tr style=\"text-align: right;\">\n",
       "      <th></th>\n",
       "      <th>total_bill</th>\n",
       "      <th>tip</th>\n",
       "      <th>sex</th>\n",
       "      <th>smoker</th>\n",
       "      <th>day</th>\n",
       "      <th>time</th>\n",
       "      <th>size</th>\n",
       "    </tr>\n",
       "  </thead>\n",
       "  <tbody>\n",
       "    <tr>\n",
       "      <th>0</th>\n",
       "      <td>16.99</td>\n",
       "      <td>1.01</td>\n",
       "      <td>Female</td>\n",
       "      <td>No</td>\n",
       "      <td>Sun</td>\n",
       "      <td>Dinner</td>\n",
       "      <td>2</td>\n",
       "    </tr>\n",
       "    <tr>\n",
       "      <th>1</th>\n",
       "      <td>10.34</td>\n",
       "      <td>1.66</td>\n",
       "      <td>Male</td>\n",
       "      <td>No</td>\n",
       "      <td>Sun</td>\n",
       "      <td>Dinner</td>\n",
       "      <td>3</td>\n",
       "    </tr>\n",
       "    <tr>\n",
       "      <th>2</th>\n",
       "      <td>21.01</td>\n",
       "      <td>3.50</td>\n",
       "      <td>Male</td>\n",
       "      <td>No</td>\n",
       "      <td>Sun</td>\n",
       "      <td>Dinner</td>\n",
       "      <td>3</td>\n",
       "    </tr>\n",
       "    <tr>\n",
       "      <th>3</th>\n",
       "      <td>23.68</td>\n",
       "      <td>3.31</td>\n",
       "      <td>Male</td>\n",
       "      <td>No</td>\n",
       "      <td>Sun</td>\n",
       "      <td>Dinner</td>\n",
       "      <td>2</td>\n",
       "    </tr>\n",
       "    <tr>\n",
       "      <th>4</th>\n",
       "      <td>24.59</td>\n",
       "      <td>3.61</td>\n",
       "      <td>Female</td>\n",
       "      <td>No</td>\n",
       "      <td>Sun</td>\n",
       "      <td>Dinner</td>\n",
       "      <td>4</td>\n",
       "    </tr>\n",
       "    <tr>\n",
       "      <th>...</th>\n",
       "      <td>...</td>\n",
       "      <td>...</td>\n",
       "      <td>...</td>\n",
       "      <td>...</td>\n",
       "      <td>...</td>\n",
       "      <td>...</td>\n",
       "      <td>...</td>\n",
       "    </tr>\n",
       "    <tr>\n",
       "      <th>239</th>\n",
       "      <td>29.03</td>\n",
       "      <td>5.92</td>\n",
       "      <td>Male</td>\n",
       "      <td>No</td>\n",
       "      <td>Sat</td>\n",
       "      <td>Dinner</td>\n",
       "      <td>3</td>\n",
       "    </tr>\n",
       "    <tr>\n",
       "      <th>240</th>\n",
       "      <td>27.18</td>\n",
       "      <td>2.00</td>\n",
       "      <td>Female</td>\n",
       "      <td>Yes</td>\n",
       "      <td>Sat</td>\n",
       "      <td>Dinner</td>\n",
       "      <td>2</td>\n",
       "    </tr>\n",
       "    <tr>\n",
       "      <th>241</th>\n",
       "      <td>22.67</td>\n",
       "      <td>2.00</td>\n",
       "      <td>Male</td>\n",
       "      <td>Yes</td>\n",
       "      <td>Sat</td>\n",
       "      <td>Dinner</td>\n",
       "      <td>2</td>\n",
       "    </tr>\n",
       "    <tr>\n",
       "      <th>242</th>\n",
       "      <td>17.82</td>\n",
       "      <td>1.75</td>\n",
       "      <td>Male</td>\n",
       "      <td>No</td>\n",
       "      <td>Sat</td>\n",
       "      <td>Dinner</td>\n",
       "      <td>2</td>\n",
       "    </tr>\n",
       "    <tr>\n",
       "      <th>243</th>\n",
       "      <td>18.78</td>\n",
       "      <td>3.00</td>\n",
       "      <td>Female</td>\n",
       "      <td>No</td>\n",
       "      <td>Thur</td>\n",
       "      <td>Dinner</td>\n",
       "      <td>2</td>\n",
       "    </tr>\n",
       "  </tbody>\n",
       "</table>\n",
       "<p>244 rows × 7 columns</p>\n",
       "</div>"
      ],
      "text/plain": [
       "     total_bill   tip     sex smoker   day    time  size\n",
       "0         16.99  1.01  Female     No   Sun  Dinner     2\n",
       "1         10.34  1.66    Male     No   Sun  Dinner     3\n",
       "2         21.01  3.50    Male     No   Sun  Dinner     3\n",
       "3         23.68  3.31    Male     No   Sun  Dinner     2\n",
       "4         24.59  3.61  Female     No   Sun  Dinner     4\n",
       "..          ...   ...     ...    ...   ...     ...   ...\n",
       "239       29.03  5.92    Male     No   Sat  Dinner     3\n",
       "240       27.18  2.00  Female    Yes   Sat  Dinner     2\n",
       "241       22.67  2.00    Male    Yes   Sat  Dinner     2\n",
       "242       17.82  1.75    Male     No   Sat  Dinner     2\n",
       "243       18.78  3.00  Female     No  Thur  Dinner     2\n",
       "\n",
       "[244 rows x 7 columns]"
      ]
     },
     "execution_count": 65,
     "metadata": {},
     "output_type": "execute_result"
    }
   ],
   "source": [
    "import pandas as pd\n",
    "pd.read_csv(\"tips.csv\")"
   ]
  },
  {
   "cell_type": "code",
   "execution_count": 68,
   "id": "ffc7a118",
   "metadata": {},
   "outputs": [],
   "source": [
    "dataset = pd.read_csv(\"tips.csv\")"
   ]
  },
  {
   "cell_type": "code",
   "execution_count": 69,
   "id": "518d7ec4",
   "metadata": {},
   "outputs": [
    {
     "name": "stdout",
     "output_type": "stream",
     "text": [
      "<class 'pandas.core.frame.DataFrame'>\n",
      "RangeIndex: 244 entries, 0 to 243\n",
      "Data columns (total 7 columns):\n",
      " #   Column      Non-Null Count  Dtype  \n",
      "---  ------      --------------  -----  \n",
      " 0   total_bill  244 non-null    float64\n",
      " 1   tip         244 non-null    float64\n",
      " 2   sex         244 non-null    object \n",
      " 3   smoker      244 non-null    object \n",
      " 4   day         244 non-null    object \n",
      " 5   time        244 non-null    object \n",
      " 6   size        244 non-null    int64  \n",
      "dtypes: float64(2), int64(1), object(4)\n",
      "memory usage: 13.5+ KB\n"
     ]
    }
   ],
   "source": [
    "dataset.info()\n"
   ]
  },
  {
   "cell_type": "code",
   "execution_count": 72,
   "id": "8a041d14",
   "metadata": {},
   "outputs": [
    {
     "data": {
      "text/plain": [
       "Index(['total_bill', 'tip', 'sex', 'smoker', 'day', 'time', 'size'], dtype='object')"
      ]
     },
     "execution_count": 72,
     "metadata": {},
     "output_type": "execute_result"
    }
   ],
   "source": [
    "dataset.columns\n"
   ]
  },
  {
   "cell_type": "code",
   "execution_count": 73,
   "id": "930564ee",
   "metadata": {},
   "outputs": [
    {
     "data": {
      "text/html": [
       "<div>\n",
       "<style scoped>\n",
       "    .dataframe tbody tr th:only-of-type {\n",
       "        vertical-align: middle;\n",
       "    }\n",
       "\n",
       "    .dataframe tbody tr th {\n",
       "        vertical-align: top;\n",
       "    }\n",
       "\n",
       "    .dataframe thead th {\n",
       "        text-align: right;\n",
       "    }\n",
       "</style>\n",
       "<table border=\"1\" class=\"dataframe\">\n",
       "  <thead>\n",
       "    <tr style=\"text-align: right;\">\n",
       "      <th></th>\n",
       "      <th>sex</th>\n",
       "      <th>smoker</th>\n",
       "    </tr>\n",
       "  </thead>\n",
       "  <tbody>\n",
       "    <tr>\n",
       "      <th>0</th>\n",
       "      <td>Female</td>\n",
       "      <td>No</td>\n",
       "    </tr>\n",
       "    <tr>\n",
       "      <th>1</th>\n",
       "      <td>Male</td>\n",
       "      <td>No</td>\n",
       "    </tr>\n",
       "    <tr>\n",
       "      <th>2</th>\n",
       "      <td>Male</td>\n",
       "      <td>No</td>\n",
       "    </tr>\n",
       "    <tr>\n",
       "      <th>3</th>\n",
       "      <td>Male</td>\n",
       "      <td>No</td>\n",
       "    </tr>\n",
       "    <tr>\n",
       "      <th>4</th>\n",
       "      <td>Female</td>\n",
       "      <td>No</td>\n",
       "    </tr>\n",
       "    <tr>\n",
       "      <th>...</th>\n",
       "      <td>...</td>\n",
       "      <td>...</td>\n",
       "    </tr>\n",
       "    <tr>\n",
       "      <th>239</th>\n",
       "      <td>Male</td>\n",
       "      <td>No</td>\n",
       "    </tr>\n",
       "    <tr>\n",
       "      <th>240</th>\n",
       "      <td>Female</td>\n",
       "      <td>Yes</td>\n",
       "    </tr>\n",
       "    <tr>\n",
       "      <th>241</th>\n",
       "      <td>Male</td>\n",
       "      <td>Yes</td>\n",
       "    </tr>\n",
       "    <tr>\n",
       "      <th>242</th>\n",
       "      <td>Male</td>\n",
       "      <td>No</td>\n",
       "    </tr>\n",
       "    <tr>\n",
       "      <th>243</th>\n",
       "      <td>Female</td>\n",
       "      <td>No</td>\n",
       "    </tr>\n",
       "  </tbody>\n",
       "</table>\n",
       "<p>244 rows × 2 columns</p>\n",
       "</div>"
      ],
      "text/plain": [
       "        sex smoker\n",
       "0    Female     No\n",
       "1      Male     No\n",
       "2      Male     No\n",
       "3      Male     No\n",
       "4    Female     No\n",
       "..      ...    ...\n",
       "239    Male     No\n",
       "240  Female    Yes\n",
       "241    Male    Yes\n",
       "242    Male     No\n",
       "243  Female     No\n",
       "\n",
       "[244 rows x 2 columns]"
      ]
     },
     "execution_count": 73,
     "metadata": {},
     "output_type": "execute_result"
    }
   ],
   "source": [
    "dataset[['sex','smoker']]"
   ]
  },
  {
   "cell_type": "code",
   "execution_count": 74,
   "id": "11e07f7b",
   "metadata": {},
   "outputs": [],
   "source": [
    "dataset_table=pd.crosstab(dataset['sex'],dataset['smoker'])"
   ]
  },
  {
   "cell_type": "code",
   "execution_count": 85,
   "id": "d8bf6132",
   "metadata": {},
   "outputs": [],
   "source": [
    "dataset_array=dataset_table.values"
   ]
  },
  {
   "cell_type": "code",
   "execution_count": 81,
   "id": "250a95c7",
   "metadata": {},
   "outputs": [],
   "source": [
    "import scipy.stats as stats"
   ]
  },
  {
   "cell_type": "markdown",
   "id": "e9d417ab",
   "metadata": {},
   "source": [
    "stats.chi2_contingency()   ##chi2 = chisquare"
   ]
  },
  {
   "cell_type": "code",
   "execution_count": 86,
   "id": "c92152bc",
   "metadata": {},
   "outputs": [
    {
     "data": {
      "text/plain": [
       "array([[54, 33],\n",
       "       [97, 60]], dtype=int64)"
      ]
     },
     "execution_count": 86,
     "metadata": {},
     "output_type": "execute_result"
    }
   ],
   "source": [
    "dataset_array\n"
   ]
  },
  {
   "cell_type": "code",
   "execution_count": 87,
   "id": "ef749b34",
   "metadata": {},
   "outputs": [
    {
     "name": "stdout",
     "output_type": "stream",
     "text": [
      "observed value(real value) \n",
      " [[54 33]\n",
      " [97 60]]\n"
     ]
    }
   ],
   "source": [
    "print(f\"observed value(real value) \\n {dataset_array}\")"
   ]
  },
  {
   "cell_type": "code",
   "execution_count": 88,
   "id": "014de010",
   "metadata": {},
   "outputs": [
    {
     "data": {
      "text/plain": [
       "(0.0,\n",
       " 1.0,\n",
       " 1,\n",
       " array([[53.84016393, 33.15983607],\n",
       "        [97.15983607, 59.84016393]]))"
      ]
     },
     "execution_count": 88,
     "metadata": {},
     "output_type": "execute_result"
    }
   ],
   "source": [
    "stats.chi2_contingency(dataset_array)"
   ]
  },
  {
   "cell_type": "code",
   "execution_count": 89,
   "id": "5f06b2cf",
   "metadata": {},
   "outputs": [],
   "source": [
    "stats_test,p,dof,expected_values=stats.chi2_contingency(dataset_array)"
   ]
  },
  {
   "cell_type": "code",
   "execution_count": 90,
   "id": "4bf6492b",
   "metadata": {},
   "outputs": [
    {
     "data": {
      "text/plain": [
       "1.0"
      ]
     },
     "execution_count": 90,
     "metadata": {},
     "output_type": "execute_result"
    }
   ],
   "source": [
    "p"
   ]
  },
  {
   "cell_type": "code",
   "execution_count": 92,
   "id": "0ba1d1f0",
   "metadata": {},
   "outputs": [
    {
     "data": {
      "text/plain": [
       "array([[53.84016393, 33.15983607],\n",
       "       [97.15983607, 59.84016393]])"
      ]
     },
     "execution_count": 92,
     "metadata": {},
     "output_type": "execute_result"
    }
   ],
   "source": [
    "expected_values\n"
   ]
  },
  {
   "cell_type": "code",
   "execution_count": 95,
   "id": "4dc06eec",
   "metadata": {},
   "outputs": [
    {
     "data": {
      "text/html": [
       "<div>\n",
       "<style scoped>\n",
       "    .dataframe tbody tr th:only-of-type {\n",
       "        vertical-align: middle;\n",
       "    }\n",
       "\n",
       "    .dataframe tbody tr th {\n",
       "        vertical-align: top;\n",
       "    }\n",
       "\n",
       "    .dataframe thead th {\n",
       "        text-align: right;\n",
       "    }\n",
       "</style>\n",
       "<table border=\"1\" class=\"dataframe\">\n",
       "  <thead>\n",
       "    <tr style=\"text-align: right;\">\n",
       "      <th>smoker</th>\n",
       "      <th>No</th>\n",
       "      <th>Yes</th>\n",
       "    </tr>\n",
       "    <tr>\n",
       "      <th>sex</th>\n",
       "      <th></th>\n",
       "      <th></th>\n",
       "    </tr>\n",
       "  </thead>\n",
       "  <tbody>\n",
       "    <tr>\n",
       "      <th>Female</th>\n",
       "      <td>54</td>\n",
       "      <td>33</td>\n",
       "    </tr>\n",
       "    <tr>\n",
       "      <th>Male</th>\n",
       "      <td>97</td>\n",
       "      <td>60</td>\n",
       "    </tr>\n",
       "  </tbody>\n",
       "</table>\n",
       "</div>"
      ],
      "text/plain": [
       "smoker  No  Yes\n",
       "sex            \n",
       "Female  54   33\n",
       "Male    97   60"
      ]
     },
     "execution_count": 95,
     "metadata": {},
     "output_type": "execute_result"
    }
   ],
   "source": [
    "dataset_table"
   ]
  },
  {
   "cell_type": "code",
   "execution_count": 94,
   "id": "32b1b5ce",
   "metadata": {},
   "outputs": [
    {
     "data": {
      "text/plain": [
       "sex\n",
       "Female    54\n",
       "Male      97\n",
       "Name: No, dtype: int64"
      ]
     },
     "execution_count": 94,
     "metadata": {},
     "output_type": "execute_result"
    }
   ],
   "source": [
    "dataset_table.iloc[0:2,0]"
   ]
  },
  {
   "cell_type": "code",
   "execution_count": 97,
   "id": "c237e1df",
   "metadata": {},
   "outputs": [
    {
     "data": {
      "text/plain": [
       "smoker\n",
       "No     54\n",
       "Yes    33\n",
       "Name: Female, dtype: int64"
      ]
     },
     "execution_count": 97,
     "metadata": {},
     "output_type": "execute_result"
    }
   ],
   "source": [
    "dataset_table.iloc[0,0:2]"
   ]
  },
  {
   "cell_type": "code",
   "execution_count": 98,
   "id": "e431cd11",
   "metadata": {},
   "outputs": [],
   "source": [
    "no_of_rows=dataset_table.iloc[0:2,0]"
   ]
  },
  {
   "cell_type": "code",
   "execution_count": 99,
   "id": "7bbb9656",
   "metadata": {},
   "outputs": [],
   "source": [
    "no_of_column=dataset_table.iloc[0,0:2]"
   ]
  },
  {
   "cell_type": "code",
   "execution_count": 100,
   "id": "1d36e158",
   "metadata": {},
   "outputs": [
    {
     "data": {
      "text/plain": [
       "2"
      ]
     },
     "execution_count": 100,
     "metadata": {},
     "output_type": "execute_result"
    }
   ],
   "source": [
    "len(no_of_rows)"
   ]
  },
  {
   "cell_type": "code",
   "execution_count": 101,
   "id": "3768c66c",
   "metadata": {},
   "outputs": [
    {
     "data": {
      "text/plain": [
       "2"
      ]
     },
     "execution_count": 101,
     "metadata": {},
     "output_type": "execute_result"
    }
   ],
   "source": [
    "len(no_of_column)"
   ]
  },
  {
   "cell_type": "code",
   "execution_count": 103,
   "id": "4b9a42cd",
   "metadata": {},
   "outputs": [],
   "source": [
    "dof=(len(no_of_column)-1)*(len(no_of_rows)-1)"
   ]
  },
  {
   "cell_type": "code",
   "execution_count": 104,
   "id": "6c6a8efa",
   "metadata": {},
   "outputs": [
    {
     "data": {
      "text/plain": [
       "1"
      ]
     },
     "execution_count": 104,
     "metadata": {},
     "output_type": "execute_result"
    }
   ],
   "source": [
    "dof"
   ]
  },
  {
   "cell_type": "code",
   "execution_count": 107,
   "id": "ac2f6650",
   "metadata": {},
   "outputs": [
    {
     "name": "stdout",
     "output_type": "stream",
     "text": [
      "[54 33] [53.84016393 33.15983607]\n",
      "[97 60] [97.15983607 59.84016393]\n"
     ]
    }
   ],
   "source": [
    "for o,e in zip(Observed_Values,expected_values):\n",
    "    print(o,e)"
   ]
  },
  {
   "cell_type": "code",
   "execution_count": 108,
   "id": "957d5eb3",
   "metadata": {},
   "outputs": [],
   "source": [
    "from scipy.stats import chi2\n",
    "chisqure_test=sum([(o-e)**2./e for o,e in zip(Observed_Values,expected_values)])"
   ]
  },
  {
   "cell_type": "code",
   "execution_count": 109,
   "id": "ffd2d8a9",
   "metadata": {},
   "outputs": [
    {
     "data": {
      "text/plain": [
       "array([0.00073745, 0.00119737])"
      ]
     },
     "execution_count": 109,
     "metadata": {},
     "output_type": "execute_result"
    }
   ],
   "source": [
    "chisqure_test"
   ]
  },
  {
   "cell_type": "code",
   "execution_count": 111,
   "id": "c20d3fb2",
   "metadata": {},
   "outputs": [],
   "source": [
    "alpha=0.05\n"
   ]
  },
  {
   "cell_type": "code",
   "execution_count": 117,
   "id": "a59e248b",
   "metadata": {},
   "outputs": [],
   "source": [
    "chi_square_statistic=chisqure_test[0]+chisqure_test[1]\n"
   ]
  },
  {
   "cell_type": "code",
   "execution_count": 118,
   "id": "0b8a8d4b",
   "metadata": {},
   "outputs": [
    {
     "data": {
      "text/plain": [
       "1"
      ]
     },
     "execution_count": 118,
     "metadata": {},
     "output_type": "execute_result"
    }
   ],
   "source": [
    "dof"
   ]
  },
  {
   "cell_type": "code",
   "execution_count": 119,
   "id": "6bbbe2fb",
   "metadata": {},
   "outputs": [],
   "source": [
    "from scipy.stats import chi2\n",
    "critical_value=chi2.ppf(1-alpha,df=dof)"
   ]
  },
  {
   "cell_type": "code",
   "execution_count": 120,
   "id": "eef54a03",
   "metadata": {},
   "outputs": [
    {
     "name": "stdout",
     "output_type": "stream",
     "text": [
      "Retain H0,There is no relationship between 2 categorical variables\n"
     ]
    }
   ],
   "source": [
    "if chi_square_statistic>=critical_value:\n",
    "    print(\"Reject H0,There is a relationship between 2 categorical variables\")\n",
    "else:\n",
    "    print(\"Retain H0,There is no relationship between 2 categorical variables\")\n"
   ]
  },
  {
   "cell_type": "code",
   "execution_count": 121,
   "id": "ae424339",
   "metadata": {},
   "outputs": [],
   "source": [
    "#p-value\n",
    "p_value=1-chi2.cdf(x=chi_square_statistic,df=dof)"
   ]
  },
  {
   "cell_type": "code",
   "execution_count": 122,
   "id": "8c8d95bf",
   "metadata": {},
   "outputs": [
    {
     "name": "stdout",
     "output_type": "stream",
     "text": [
      "Retain H0,There is no relationship between 2 categorical variables\n"
     ]
    }
   ],
   "source": [
    "if p_value<=alpha:\n",
    "    print(\"Reject H0,There is a relationship between 2 categorical variables\")\n",
    "else:\n",
    "    print(\"Retain H0,There is no relationship between 2 categorical variables\")"
   ]
  },
  {
   "cell_type": "code",
   "execution_count": null,
   "id": "0d0d1a1c",
   "metadata": {},
   "outputs": [],
   "source": []
  }
 ],
 "metadata": {
  "kernelspec": {
   "display_name": "Python 3 (ipykernel)",
   "language": "python",
   "name": "python3"
  },
  "language_info": {
   "codemirror_mode": {
    "name": "ipython",
    "version": 3
   },
   "file_extension": ".py",
   "mimetype": "text/x-python",
   "name": "python",
   "nbconvert_exporter": "python",
   "pygments_lexer": "ipython3",
   "version": "3.9.12"
  }
 },
 "nbformat": 4,
 "nbformat_minor": 5
}
