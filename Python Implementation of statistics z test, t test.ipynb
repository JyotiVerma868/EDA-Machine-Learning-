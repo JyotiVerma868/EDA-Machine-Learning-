{
 "cells": [
  {
   "cell_type": "code",
   "execution_count": 1,
   "id": "c6e7a315",
   "metadata": {},
   "outputs": [],
   "source": [
    "import numpy as np\n",
    "from statistics import mode"
   ]
  },
  {
   "cell_type": "markdown",
   "id": "870bf00f",
   "metadata": {},
   "source": [
    "# Populatian (Mean, Median, Mode)"
   ]
  },
  {
   "cell_type": "code",
   "execution_count": 2,
   "id": "8315c569",
   "metadata": {},
   "outputs": [],
   "source": [
    "population=np.random.randint(10,20,50)\n"
   ]
  },
  {
   "cell_type": "code",
   "execution_count": 3,
   "id": "5fed5d92",
   "metadata": {},
   "outputs": [
    {
     "data": {
      "text/plain": [
       "array([16, 14, 18, 18, 19, 15, 13, 15, 13, 17, 19, 14, 18, 15, 17, 10, 14,\n",
       "       10, 14, 16, 14, 12, 12, 10, 12, 18, 16, 16, 13, 17, 12, 15, 13, 15,\n",
       "       12, 17, 15, 19, 19, 14, 10, 12, 19, 13, 11, 14, 14, 14, 11, 11])"
      ]
     },
     "execution_count": 3,
     "metadata": {},
     "output_type": "execute_result"
    }
   ],
   "source": [
    "population"
   ]
  },
  {
   "cell_type": "code",
   "execution_count": 4,
   "id": "58b58e08",
   "metadata": {},
   "outputs": [
    {
     "data": {
      "text/plain": [
       "14.5"
      ]
     },
     "execution_count": 4,
     "metadata": {},
     "output_type": "execute_result"
    }
   ],
   "source": [
    "np.mean(population)"
   ]
  },
  {
   "cell_type": "code",
   "execution_count": 5,
   "id": "7c426367",
   "metadata": {},
   "outputs": [
    {
     "data": {
      "text/plain": [
       "14.0"
      ]
     },
     "execution_count": 5,
     "metadata": {},
     "output_type": "execute_result"
    }
   ],
   "source": [
    "np.median(population)"
   ]
  },
  {
   "cell_type": "code",
   "execution_count": 6,
   "id": "019b3adf",
   "metadata": {},
   "outputs": [
    {
     "data": {
      "text/plain": [
       "14"
      ]
     },
     "execution_count": 6,
     "metadata": {},
     "output_type": "execute_result"
    }
   ],
   "source": [
    "mode(population)"
   ]
  },
  {
   "cell_type": "code",
   "execution_count": 7,
   "id": "f287fffb",
   "metadata": {},
   "outputs": [
    {
     "data": {
      "text/plain": [
       "10"
      ]
     },
     "execution_count": 7,
     "metadata": {},
     "output_type": "execute_result"
    }
   ],
   "source": [
    "np.random.choice(population)"
   ]
  },
  {
   "cell_type": "code",
   "execution_count": 8,
   "id": "dd99db77",
   "metadata": {},
   "outputs": [
    {
     "name": "stdout",
     "output_type": "stream",
     "text": [
      "Mean of the Population 14.5\n",
      "Median of the Population 14.0\n",
      "Mode of the Population 14\n"
     ]
    }
   ],
   "source": [
    "print(f\"Mean of the Population {np.mean(population)}\")\n",
    "print(f\"Median of the Population {np.median(population)}\")\n",
    "print(f\"Mode of the Population {mode(population)}\")"
   ]
  },
  {
   "cell_type": "markdown",
   "id": "9e6a88eb",
   "metadata": {},
   "source": [
    "# sample(Mean, Median, Mode)"
   ]
  },
  {
   "cell_type": "code",
   "execution_count": 9,
   "id": "762341c5",
   "metadata": {},
   "outputs": [],
   "source": [
    "sample=np.random.choice(population,20)\n"
   ]
  },
  {
   "cell_type": "code",
   "execution_count": 10,
   "id": "104432bd",
   "metadata": {},
   "outputs": [
    {
     "data": {
      "text/plain": [
       "array([15, 17, 15, 13, 10, 15, 10, 14, 14, 12, 12, 14, 15, 13, 10, 14, 12,\n",
       "       16, 19, 12])"
      ]
     },
     "execution_count": 10,
     "metadata": {},
     "output_type": "execute_result"
    }
   ],
   "source": [
    "sample"
   ]
  },
  {
   "cell_type": "code",
   "execution_count": 11,
   "id": "0375d38e",
   "metadata": {},
   "outputs": [
    {
     "name": "stdout",
     "output_type": "stream",
     "text": [
      "Mean of the Population 13.6\n",
      "Median of the Population 14.0\n",
      "Mode of the Population 15\n"
     ]
    }
   ],
   "source": [
    "print(f\"Mean of the Population {np.mean(sample)}\")\n",
    "print(f\"Median of the Population {np.median(sample)}\")\n",
    "print(f\"Mode of the Population {mode(sample)}\")"
   ]
  },
  {
   "cell_type": "code",
   "execution_count": 12,
   "id": "e71e0edc",
   "metadata": {},
   "outputs": [],
   "source": [
    "sample1=np.random.choice(population,20)\n",
    "sample2=np.random.choice(population,20)\n",
    "sample3=np.random.choice(population,20)\n",
    "sample4=np.random.choice(population,20)"
   ]
  },
  {
   "cell_type": "code",
   "execution_count": 13,
   "id": "3f6177a6",
   "metadata": {},
   "outputs": [
    {
     "name": "stdout",
     "output_type": "stream",
     "text": [
      "[18 19 10 14 12 14 14 14 11 14 15 12 14 11 12 11 14 12 19 12]\n",
      "============================================================\n",
      "[18 14 11 10 15 10 13 15 14 17 19 19 12 17 14 15 12 11 13 17]\n",
      "============================================================\n",
      "[16 11 11 14 19 15 16 16 19 19 17 13 16 15 13 13 10 15 19 11]\n",
      "============================================================\n",
      "[14 18 11 12 15 17 18 16 17 14 12 15 14 15 14 13 16 14 18 12]\n"
     ]
    }
   ],
   "source": [
    "print(sample1)\n",
    "print(60*\"=\")\n",
    "print(sample2)\n",
    "print(60*\"=\")\n",
    "print(sample3)\n",
    "print(60*\"=\")\n",
    "print(sample4)"
   ]
  },
  {
   "cell_type": "code",
   "execution_count": 14,
   "id": "c22cdfe1",
   "metadata": {},
   "outputs": [],
   "source": [
    "mean_of_samples=[]\n",
    "all_sample=[sample1,sample2,sample3,sample4]\n",
    "\n",
    "for sample in all_sample:\n",
    "    mean_of_samples.append(np.mean(sample))"
   ]
  },
  {
   "cell_type": "code",
   "execution_count": 15,
   "id": "35817396",
   "metadata": {},
   "outputs": [
    {
     "data": {
      "text/plain": [
       "[13.6, 14.3, 14.9, 14.75]"
      ]
     },
     "execution_count": 15,
     "metadata": {},
     "output_type": "execute_result"
    }
   ],
   "source": [
    "mean_of_samples"
   ]
  },
  {
   "cell_type": "markdown",
   "id": "667b8e75",
   "metadata": {},
   "source": [
    "# Central Limit Theorem "
   ]
  },
  {
   "cell_type": "code",
   "execution_count": 16,
   "id": "c4e2e3da",
   "metadata": {},
   "outputs": [],
   "source": [
    "## Binomial distribution gives binary result when tried number of times\n",
    "## Bernoulli distribution gives binary result 0,1"
   ]
  },
  {
   "cell_type": "code",
   "execution_count": 17,
   "id": "270f2b22",
   "metadata": {},
   "outputs": [],
   "source": [
    "population=np.random.binomial(10,0.5,10000)"
   ]
  },
  {
   "cell_type": "code",
   "execution_count": 18,
   "id": "c5f7eb29",
   "metadata": {},
   "outputs": [
    {
     "data": {
      "text/plain": [
       "array([8, 3, 6, ..., 5, 2, 4])"
      ]
     },
     "execution_count": 18,
     "metadata": {},
     "output_type": "execute_result"
    }
   ],
   "source": [
    "population"
   ]
  },
  {
   "cell_type": "code",
   "execution_count": 19,
   "id": "5f772d2f",
   "metadata": {},
   "outputs": [
    {
     "data": {
      "text/plain": [
       "10000"
      ]
     },
     "execution_count": 19,
     "metadata": {},
     "output_type": "execute_result"
    }
   ],
   "source": [
    "len(population)"
   ]
  },
  {
   "cell_type": "code",
   "execution_count": 20,
   "id": "148518cb",
   "metadata": {},
   "outputs": [],
   "source": [
    "import seaborn as sns"
   ]
  },
  {
   "cell_type": "code",
   "execution_count": 21,
   "id": "775394db",
   "metadata": {},
   "outputs": [
    {
     "data": {
      "text/plain": [
       "<seaborn.axisgrid.FacetGrid at 0x2739defff70>"
      ]
     },
     "execution_count": 21,
     "metadata": {},
     "output_type": "execute_result"
    },
    {
     "data": {
      "image/png": "[encoded data removed]",
      "text/plain": [
       "<Figure size 360x360 with 1 Axes>"
      ]
     },
     "metadata": {
      "needs_background": "light"
     },
     "output_type": "display_data"
    }
   ],
   "source": [
    "sns.displot(population)"
   ]
  },
  {
   "cell_type": "code",
   "execution_count": 22,
   "id": "63d92284",
   "metadata": {},
   "outputs": [
    {
     "name": "stderr",
     "output_type": "stream",
     "text": [
      "C:\\Users\\97474\\anaconda3\\lib\\site-packages\\seaborn\\distributions.py:2619: FutureWarning: `distplot` is a deprecated function and will be removed in a future version. Please adapt your code to use either `displot` (a figure-level function with similar flexibility) or `histplot` (an axes-level function for histograms).\n",
      "  warnings.warn(msg, FutureWarning)\n"
     ]
    },
    {
     "data": {
      "text/plain": [
       "<AxesSubplot:ylabel='Density'>"
      ]
     },
     "execution_count": 22,
     "metadata": {},
     "output_type": "execute_result"
    },
    {
     "data": {
      "image/png": "[encoded data removed]",
      "text/plain": [
       "<Figure size 432x288 with 1 Axes>"
      ]
     },
     "metadata": {
      "needs_background": "light"
     },
     "output_type": "display_data"
    }
   ],
   "source": [
    "sns.distplot(population)"
   ]
  },
  {
   "cell_type": "code",
   "execution_count": 23,
   "id": "b58f4eeb",
   "metadata": {},
   "outputs": [
    {
     "data": {
      "text/plain": [
       "3000.0"
      ]
     },
     "execution_count": 23,
     "metadata": {},
     "output_type": "execute_result"
    }
   ],
   "source": [
    "len(population)*0.30"
   ]
  },
  {
   "cell_type": "code",
   "execution_count": 24,
   "id": "7d50cebe",
   "metadata": {},
   "outputs": [],
   "source": [
    "size=int(len(population)*0.30)"
   ]
  },
  {
   "cell_type": "code",
   "execution_count": 25,
   "id": "32f1b886",
   "metadata": {},
   "outputs": [],
   "source": [
    "sample_mean=[]\n",
    "for i in range(1,31):\n",
    "    sample=np.random.choice(population,size=size)\n",
    "    sample_mean.append(np.mean(sample))"
   ]
  },
  {
   "cell_type": "code",
   "execution_count": 26,
   "id": "c221551e",
   "metadata": {},
   "outputs": [
    {
     "data": {
      "text/plain": [
       "[5.015333333333333,\n",
       " 5.07,\n",
       " 5.062666666666667,\n",
       " 5.013333333333334,\n",
       " 5.017666666666667,\n",
       " 5.007,\n",
       " 5.036333333333333,\n",
       " 5.024666666666667,\n",
       " 5.0473333333333334,\n",
       " 5.013333333333334,\n",
       " 5.061,\n",
       " 5.012333333333333,\n",
       " 5.031333333333333,\n",
       " 4.97,\n",
       " 5.020333333333333,\n",
       " 5.014,\n",
       " 5.006,\n",
       " 4.993,\n",
       " 5.032333333333334,\n",
       " 5.008333333333334,\n",
       " 5.025,\n",
       " 4.985333333333333,\n",
       " 5.019666666666667,\n",
       " 5.007,\n",
       " 5.020333333333333,\n",
       " 4.999666666666666,\n",
       " 5.055666666666666,\n",
       " 5.046,\n",
       " 5.053,\n",
       " 5.004]"
      ]
     },
     "execution_count": 26,
     "metadata": {},
     "output_type": "execute_result"
    }
   ],
   "source": [
    "sample_mean"
   ]
  },
  {
   "cell_type": "code",
   "execution_count": 27,
   "id": "87b5f09f",
   "metadata": {},
   "outputs": [
    {
     "name": "stderr",
     "output_type": "stream",
     "text": [
      "C:\\Users\\97474\\anaconda3\\lib\\site-packages\\seaborn\\distributions.py:2619: FutureWarning: `distplot` is a deprecated function and will be removed in a future version. Please adapt your code to use either `displot` (a figure-level function with similar flexibility) or `histplot` (an axes-level function for histograms).\n",
      "  warnings.warn(msg, FutureWarning)\n"
     ]
    },
    {
     "data": {
      "text/plain": [
       "<AxesSubplot:ylabel='Density'>"
      ]
     },
     "execution_count": 27,
     "metadata": {},
     "output_type": "execute_result"
    },
    {
     "data": {
      "image/png": "[encoded data removed]",
      "text/plain": [
       "<Figure size 432x288 with 1 Axes>"
      ]
     },
     "metadata": {
      "needs_background": "light"
     },
     "output_type": "display_data"
    }
   ],
   "source": [
    "sns.distplot(sample_mean)"
   ]
  },
  {
   "cell_type": "code",
   "execution_count": 28,
   "id": "5adccfc0",
   "metadata": {},
   "outputs": [],
   "source": [
    "sample_mean=[]\n",
    "for i in range(1,100):\n",
    "    sample=np.random.choice(population,size=size)\n",
    "    sample_mean.append(np.mean(sample))"
   ]
  },
  {
   "cell_type": "code",
   "execution_count": 29,
   "id": "9ac59296",
   "metadata": {},
   "outputs": [
    {
     "name": "stderr",
     "output_type": "stream",
     "text": [
      "C:\\Users\\97474\\anaconda3\\lib\\site-packages\\seaborn\\distributions.py:2619: FutureWarning: `distplot` is a deprecated function and will be removed in a future version. Please adapt your code to use either `displot` (a figure-level function with similar flexibility) or `histplot` (an axes-level function for histograms).\n",
      "  warnings.warn(msg, FutureWarning)\n"
     ]
    },
    {
     "data": {
      "text/plain": [
       "<AxesSubplot:ylabel='Density'>"
      ]
     },
     "execution_count": 29,
     "metadata": {},
     "output_type": "execute_result"
    },
    {
     "data": {
      "image/png": "[encoded data removed]",
      "text/plain": [
       "<Figure size 432x288 with 1 Axes>"
      ]
     },
     "metadata": {
      "needs_background": "light"
     },
     "output_type": "display_data"
    }
   ],
   "source": [
    "sns.distplot(sample_mean)"
   ]
  },
  {
   "cell_type": "code",
   "execution_count": 30,
   "id": "337ca82c",
   "metadata": {},
   "outputs": [],
   "source": [
    "sample_mean=[]\n",
    "for i in range(1,501):\n",
    "    sample=np.random.choice(population,size=size)\n",
    "    sample_mean.append(np.mean(sample))"
   ]
  },
  {
   "cell_type": "code",
   "execution_count": 31,
   "id": "5bec5d2b",
   "metadata": {},
   "outputs": [
    {
     "name": "stderr",
     "output_type": "stream",
     "text": [
      "C:\\Users\\97474\\anaconda3\\lib\\site-packages\\seaborn\\distributions.py:2619: FutureWarning: `distplot` is a deprecated function and will be removed in a future version. Please adapt your code to use either `displot` (a figure-level function with similar flexibility) or `histplot` (an axes-level function for histograms).\n",
      "  warnings.warn(msg, FutureWarning)\n"
     ]
    },
    {
     "data": {
      "text/plain": [
       "<AxesSubplot:ylabel='Density'>"
      ]
     },
     "execution_count": 31,
     "metadata": {},
     "output_type": "execute_result"
    },
    {
     "data": {
      "image/png": "[encoded data removed]",
      "text/plain": [
       "<Figure size 432x288 with 1 Axes>"
      ]
     },
     "metadata": {
      "needs_background": "light"
     },
     "output_type": "display_data"
    }
   ],
   "source": [
    "sns.distplot(sample_mean,kde=True,color=\"red\")"
   ]
  },
  {
   "cell_type": "code",
   "execution_count": 32,
   "id": "66a0053c",
   "metadata": {},
   "outputs": [
    {
     "name": "stderr",
     "output_type": "stream",
     "text": [
      "C:\\Users\\97474\\anaconda3\\lib\\site-packages\\seaborn\\distributions.py:2619: FutureWarning: `distplot` is a deprecated function and will be removed in a future version. Please adapt your code to use either `displot` (a figure-level function with similar flexibility) or `histplot` (an axes-level function for histograms).\n",
      "  warnings.warn(msg, FutureWarning)\n"
     ]
    },
    {
     "data": {
      "text/plain": [
       "<AxesSubplot:ylabel='Density'>"
      ]
     },
     "execution_count": 32,
     "metadata": {},
     "output_type": "execute_result"
    },
    {
     "data": {
      "image/png": "[encoded data removed]",
      "text/plain": [
       "<Figure size 432x288 with 1 Axes>"
      ]
     },
     "metadata": {
      "needs_background": "light"
     },
     "output_type": "display_data"
    }
   ],
   "source": [
    "sns.distplot(sample_mean)\n"
   ]
  },
  {
   "cell_type": "code",
   "execution_count": 33,
   "id": "ac6e3daa",
   "metadata": {},
   "outputs": [
    {
     "data": {
      "text/plain": [
       "5.022216666666667"
      ]
     },
     "execution_count": 33,
     "metadata": {},
     "output_type": "execute_result"
    }
   ],
   "source": [
    "np.mean(sample_mean)"
   ]
  },
  {
   "cell_type": "code",
   "execution_count": 34,
   "id": "0e4ddcc1",
   "metadata": {},
   "outputs": [],
   "source": [
    "sample_mean=[]\n",
    "for i in range(1,1000):\n",
    "    sample=np.random.choice(population,size=size)\n",
    "    sample_mean.append(np.mean(sample))"
   ]
  },
  {
   "cell_type": "code",
   "execution_count": 35,
   "id": "13a64533",
   "metadata": {},
   "outputs": [
    {
     "name": "stderr",
     "output_type": "stream",
     "text": [
      "C:\\Users\\97474\\anaconda3\\lib\\site-packages\\seaborn\\distributions.py:2619: FutureWarning: `distplot` is a deprecated function and will be removed in a future version. Please adapt your code to use either `displot` (a figure-level function with similar flexibility) or `histplot` (an axes-level function for histograms).\n",
      "  warnings.warn(msg, FutureWarning)\n"
     ]
    },
    {
     "data": {
      "text/plain": [
       "<AxesSubplot:ylabel='Density'>"
      ]
     },
     "execution_count": 35,
     "metadata": {},
     "output_type": "execute_result"
    },
    {
     "data": {
      "image/png": "[encoded data removed]",
      "text/plain": [
       "<Figure size 432x288 with 1 Axes>"
      ]
     },
     "metadata": {
      "needs_background": "light"
     },
     "output_type": "display_data"
    }
   ],
   "source": [
    "sns.distplot(sample_mean)"
   ]
  },
  {
   "cell_type": "code",
   "execution_count": 36,
   "id": "1dea6d14",
   "metadata": {},
   "outputs": [
    {
     "data": {
      "text/plain": [
       "5.023544878211545"
      ]
     },
     "execution_count": 36,
     "metadata": {},
     "output_type": "execute_result"
    }
   ],
   "source": [
    "np.mean(sample_mean)"
   ]
  },
  {
   "cell_type": "markdown",
   "id": "63d33cc1",
   "metadata": {},
   "source": [
    "# confidence interval and margin of error\n"
   ]
  },
  {
   "cell_type": "code",
   "execution_count": 37,
   "id": "3b5e0053",
   "metadata": {},
   "outputs": [],
   "source": [
    "import scipy.stats as stats"
   ]
  },
  {
   "cell_type": "code",
   "execution_count": 38,
   "id": "ede12422",
   "metadata": {},
   "outputs": [],
   "source": [
    "#stats.norm.ppf(q=0.95)\n",
    "#stats.norm.ppf(q=0.975)\n",
    "#stats.norm.ppf(q=0.99)"
   ]
  },
  {
   "cell_type": "code",
   "execution_count": 39,
   "id": "e683016b",
   "metadata": {},
   "outputs": [],
   "source": [
    "#The Probability Point Function or PPF is the inverse of the CDF. Specifically, \n",
    "#the PPF returns the exact point where the probability of everything to the left is equal to y\n",
    "# ppf() function calculates the normal distribution value for which a given probability is the required value."
   ]
  },
  {
   "cell_type": "code",
   "execution_count": 40,
   "id": "c4ebbc19",
   "metadata": {},
   "outputs": [
    {
     "data": {
      "text/plain": [
       "2.3263478740408408"
      ]
     },
     "execution_count": 40,
     "metadata": {},
     "output_type": "execute_result"
    }
   ],
   "source": [
    "stats.norm.ppf(q=0.99)"
   ]
  },
  {
   "cell_type": "code",
   "execution_count": 41,
   "id": "6ff78186",
   "metadata": {},
   "outputs": [
    {
     "data": {
      "text/plain": [
       "1.6448536269514722"
      ]
     },
     "execution_count": 41,
     "metadata": {},
     "output_type": "execute_result"
    }
   ],
   "source": [
    "stats.norm.ppf(q=0.95)"
   ]
  },
  {
   "cell_type": "code",
   "execution_count": 42,
   "id": "aa6c7487",
   "metadata": {},
   "outputs": [
    {
     "data": {
      "text/plain": [
       "1.959963984540054"
      ]
     },
     "execution_count": 42,
     "metadata": {},
     "output_type": "execute_result"
    }
   ],
   "source": [
    "stats.norm.ppf(q=0.975)"
   ]
  },
  {
   "cell_type": "code",
   "execution_count": 43,
   "id": "764f6912",
   "metadata": {},
   "outputs": [],
   "source": [
    "z_critical = stats.norm.ppf(q=0.975)\n"
   ]
  },
  {
   "cell_type": "code",
   "execution_count": 44,
   "id": "45c271cf",
   "metadata": {},
   "outputs": [],
   "source": [
    "t_critical = stats.t.ppf(q=0.975,df=24)\n"
   ]
  },
  {
   "cell_type": "code",
   "execution_count": 45,
   "id": "940c5a30",
   "metadata": {},
   "outputs": [],
   "source": [
    "margin_of_error = z_critical*(np.std(mean_of_samples)/np.sqrt(20))"
   ]
  },
  {
   "cell_type": "code",
   "execution_count": 46,
   "id": "19bc2fed",
   "metadata": {},
   "outputs": [
    {
     "data": {
      "text/plain": [
       "0.2215144107162334"
      ]
     },
     "execution_count": 46,
     "metadata": {},
     "output_type": "execute_result"
    }
   ],
   "source": [
    "margin_of_error"
   ]
  },
  {
   "cell_type": "code",
   "execution_count": 47,
   "id": "61ceab44",
   "metadata": {},
   "outputs": [
    {
     "data": {
      "text/plain": [
       "14.165985589283766"
      ]
     },
     "execution_count": 47,
     "metadata": {},
     "output_type": "execute_result"
    }
   ],
   "source": [
    "np.mean(mean_of_samples)-margin_of_error"
   ]
  },
  {
   "cell_type": "code",
   "execution_count": 48,
   "id": "22f1bcfa",
   "metadata": {},
   "outputs": [
    {
     "data": {
      "text/plain": [
       "14.609014410716233"
      ]
     },
     "execution_count": 48,
     "metadata": {},
     "output_type": "execute_result"
    }
   ],
   "source": [
    "np.mean(mean_of_samples)+margin_of_error"
   ]
  },
  {
   "cell_type": "markdown",
   "id": "e0c257b7",
   "metadata": {},
   "source": [
    "# Z-test"
   ]
  },
  {
   "cell_type": "code",
   "execution_count": 49,
   "id": "556cc5a3",
   "metadata": {},
   "outputs": [],
   "source": [
    "from numpy.random import randn\n",
    "population=randn(100)"
   ]
  },
  {
   "cell_type": "code",
   "execution_count": 50,
   "id": "30734bae",
   "metadata": {},
   "outputs": [
    {
     "data": {
      "text/plain": [
       "array([-6.28849580e-02, -3.62917907e-01,  1.22962291e+00,  1.89724643e-01,\n",
       "       -6.84715500e-01, -1.20073563e+00,  3.63419651e-01,  4.62245803e-02,\n",
       "       -8.05526592e-01, -6.72207591e-04, -2.01410190e+00,  2.40762881e+00,\n",
       "        6.79791882e-01, -1.05787603e+00, -1.41913548e-02, -3.11812999e-01,\n",
       "       -4.77962751e-01, -1.13030545e+00,  4.70506487e-01, -7.40471714e-01,\n",
       "        1.41787171e+00, -1.46065937e+00,  6.00155344e-01, -4.63681783e-01,\n",
       "       -2.48153457e-02, -2.48049845e+00,  1.42781297e+00, -1.83159652e+00,\n",
       "        3.32747690e-01,  5.44076211e-01, -1.25915010e+00,  2.18798853e-01,\n",
       "       -4.25023990e-01,  1.55112291e+00, -1.21031004e+00,  5.37887722e-01,\n",
       "       -3.25094154e+00, -1.48180026e-01, -4.98240382e-03,  4.79971796e-01,\n",
       "        6.44934966e-01, -1.00382705e+00,  8.58261721e-01, -1.02741317e+00,\n",
       "       -8.52124111e-01,  5.43672693e-01,  2.80614003e-01,  9.95602071e-01,\n",
       "       -9.84389583e-01, -3.59580542e-01,  1.82357701e+00, -6.53970741e-01,\n",
       "       -3.37192998e-01, -2.08566273e-01,  4.98769853e-01, -4.87846885e-01,\n",
       "        2.34543287e+00,  3.12218553e+00, -1.59933463e-01,  1.01069538e+00,\n",
       "       -6.92269369e-01,  9.49526956e-01, -7.42570015e-01, -4.78813095e-01,\n",
       "        1.57608962e-01, -5.54051410e-01, -1.66620607e+00,  1.06621671e+00,\n",
       "        1.14452447e+00, -8.36763584e-01, -1.48946754e-01, -6.62679535e-01,\n",
       "       -5.96136959e-01,  1.06345018e+00,  6.82287465e-01,  3.91596408e-01,\n",
       "       -3.26612978e-01,  6.86281433e-01,  6.91285078e-01,  1.09926813e+00,\n",
       "       -4.82396571e-01,  9.55314745e-01,  1.93962266e+00,  6.58926514e-01,\n",
       "        8.68884014e-01,  6.21094652e-01, -1.14749086e+00,  4.28174624e-01,\n",
       "       -1.13478671e-01,  6.26609162e-01, -7.23380103e-01, -9.18705312e-01,\n",
       "        7.01277601e-02, -1.33238642e+00,  1.29767926e+00, -5.74996403e-01,\n",
       "        4.95704623e-01,  3.60168435e-01,  5.99940293e-02,  4.43089558e-01])"
      ]
     },
     "execution_count": 50,
     "metadata": {},
     "output_type": "execute_result"
    }
   ],
   "source": [
    "population"
   ]
  },
  {
   "cell_type": "code",
   "execution_count": 51,
   "id": "b1025365",
   "metadata": {},
   "outputs": [
    {
     "name": "stderr",
     "output_type": "stream",
     "text": [
      "C:\\Users\\97474\\anaconda3\\lib\\site-packages\\seaborn\\distributions.py:2619: FutureWarning: `distplot` is a deprecated function and will be removed in a future version. Please adapt your code to use either `displot` (a figure-level function with similar flexibility) or `histplot` (an axes-level function for histograms).\n",
      "  warnings.warn(msg, FutureWarning)\n"
     ]
    },
    {
     "data": {
      "text/plain": [
       "<AxesSubplot:ylabel='Density'>"
      ]
     },
     "execution_count": 51,
     "metadata": {},
     "output_type": "execute_result"
    },
    {
     "data": {
      "image/png": "[encoded data removed]",
      "text/plain": [
       "<Figure size 432x288 with 1 Axes>"
      ]
     },
     "metadata": {
      "needs_background": "light"
     },
     "output_type": "display_data"
    }
   ],
   "source": [
    "sns.distplot(population)"
   ]
  },
  {
   "cell_type": "code",
   "execution_count": 52,
   "id": "a0aab393",
   "metadata": {},
   "outputs": [],
   "source": [
    "## with z test we prove null hypothesis "
   ]
  },
  {
   "cell_type": "code",
   "execution_count": 53,
   "id": "056dac99",
   "metadata": {},
   "outputs": [],
   "source": [
    "from numpy.random import randn\n",
    "data=randn(50)"
   ]
  },
  {
   "cell_type": "code",
   "execution_count": 54,
   "id": "3287d47f",
   "metadata": {},
   "outputs": [
    {
     "data": {
      "text/plain": [
       "array([ 0.48814494, -1.6349539 ,  0.45391385,  0.03308744,  1.21891188,\n",
       "       -0.76052978, -0.08535896, -1.52287626, -0.12487735,  1.14524493,\n",
       "        0.49662078,  0.05667915, -0.74218318,  0.14113791, -2.01311823,\n",
       "       -0.51066633, -0.08788226, -1.46556057, -0.06925498,  0.19773379,\n",
       "       -0.53305069,  0.05535752, -0.33693679,  1.15269473, -1.35286723,\n",
       "       -0.21305678,  0.45429912, -0.839882  ,  0.57995623, -0.99381883,\n",
       "       -0.23901589, -0.54803002,  1.31978325, -0.60914999, -1.43276042,\n",
       "       -1.06028226, -0.13672128,  0.99338374,  0.0786311 , -1.3917655 ,\n",
       "        0.20947825, -1.2066192 , -0.99914701, -1.67617964, -0.171351  ,\n",
       "       -1.0276125 ,  1.37078885,  0.63396218,  0.18774875, -1.13713049])"
      ]
     },
     "execution_count": 54,
     "metadata": {},
     "output_type": "execute_result"
    }
   ],
   "source": [
    "data"
   ]
  },
  {
   "cell_type": "code",
   "execution_count": 55,
   "id": "439d1770",
   "metadata": {},
   "outputs": [
    {
     "name": "stderr",
     "output_type": "stream",
     "text": [
      "C:\\Users\\97474\\anaconda3\\lib\\site-packages\\seaborn\\distributions.py:2619: FutureWarning: `distplot` is a deprecated function and will be removed in a future version. Please adapt your code to use either `displot` (a figure-level function with similar flexibility) or `histplot` (an axes-level function for histograms).\n",
      "  warnings.warn(msg, FutureWarning)\n"
     ]
    },
    {
     "data": {
      "text/plain": [
       "<AxesSubplot:ylabel='Density'>"
      ]
     },
     "execution_count": 55,
     "metadata": {},
     "output_type": "execute_result"
    },
    {
     "data": {
      "image/png": "[encoded data removed]",
      "text/plain": [
       "<Figure size 432x288 with 1 Axes>"
      ]
     },
     "metadata": {
      "needs_background": "light"
     },
     "output_type": "display_data"
    }
   ],
   "source": [
    "sns.distplot(data)"
   ]
  },
  {
   "cell_type": "code",
   "execution_count": 56,
   "id": "c4381fa0",
   "metadata": {},
   "outputs": [
    {
     "name": "stdout",
     "output_type": "stream",
     "text": [
      "here is a mean of the population: 0.018818026163628602,here is a std dev 1.0299937159759684\n"
     ]
    }
   ],
   "source": [
    "print(f\"here is a mean of the population: {np.mean(population)},here is a std dev {np.std(population)}\")"
   ]
  },
  {
   "cell_type": "code",
   "execution_count": 57,
   "id": "04fbbcaa",
   "metadata": {},
   "outputs": [],
   "source": [
    "null_mean= 0.022\n"
   ]
  },
  {
   "cell_type": "raw",
   "id": "7e14d869",
   "metadata": {},
   "source": [
    "C.I=95%\n",
    "ALPHA=0.05(5%)"
   ]
  },
  {
   "cell_type": "raw",
   "id": "77d6420e",
   "metadata": {},
   "source": [
    "#p<=0.05 we reject the null hypothesis"
   ]
  },
  {
   "cell_type": "raw",
   "id": "d0f4ebbf",
   "metadata": {},
   "source": [
    "#p>=0.05 we accept the null hypothesis"
   ]
  },
  {
   "cell_type": "raw",
   "id": "2d0640e5",
   "metadata": {},
   "source": [
    "P<=ALPHA\n",
    "P>ALPHA"
   ]
  },
  {
   "cell_type": "code",
   "execution_count": 58,
   "id": "09bb80b1",
   "metadata": {},
   "outputs": [],
   "source": [
    "p_value=0.05\n",
    "alpha=0.05"
   ]
  },
  {
   "cell_type": "code",
   "execution_count": 59,
   "id": "459e024a",
   "metadata": {},
   "outputs": [],
   "source": [
    "from statsmodels.stats.weightstats import ztest\n",
    "z_score,p_value=ztest(population,value=null_mean,alternative='larger')"
   ]
  },
  {
   "cell_type": "code",
   "execution_count": 60,
   "id": "684c5685",
   "metadata": {},
   "outputs": [
    {
     "name": "stdout",
     "output_type": "stream",
     "text": [
      "We accept the null hypothesis\n"
     ]
    }
   ],
   "source": [
    "if (p_value<alpha):\n",
    "    print(\"We reject the null hypothesis\")\n",
    "else:\n",
    "    print(\"We accept the null hypothesis\")\n",
    "    "
   ]
  },
  {
   "cell_type": "raw",
   "id": "7ecf97f7",
   "metadata": {},
   "source": [
    "1 how to check the normality of the data\n",
    "2. z test\n",
    "3. t test\n",
    "4. chi squre test\n",
    "5 anova test"
   ]
  },
  {
   "cell_type": "code",
   "execution_count": null,
   "id": "8e32aad2",
   "metadata": {},
   "outputs": [],
   "source": []
  },
  {
   "cell_type": "code",
   "execution_count": null,
   "id": "f1a0eeb0",
   "metadata": {},
   "outputs": [],
   "source": []
  },
  {
   "cell_type": "code",
   "execution_count": null,
   "id": "da184c63",
   "metadata": {},
   "outputs": [],
   "source": []
  },
  {
   "cell_type": "code",
   "execution_count": null,
   "id": "25c0528f",
   "metadata": {},
   "outputs": [],
   "source": []
  }
 ],
 "metadata": {
  "kernelspec": {
   "display_name": "Python 3 (ipykernel)",
   "language": "python",
   "name": "python3"
  },
  "language_info": {
   "codemirror_mode": {
    "name": "ipython",
    "version": 3
   },
   "file_extension": ".py",
   "mimetype": "text/x-python",
   "name": "python",
   "nbconvert_exporter": "python",
   "pygments_lexer": "ipython3",
   "version": "3.9.12"
  }
 },
 "nbformat": 4,
 "nbformat_minor": 5
}
